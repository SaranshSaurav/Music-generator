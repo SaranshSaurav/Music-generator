{
  "nbformat": 4,
  "nbformat_minor": 0,
  "metadata": {
    "colab": {
      "provenance": [],
      "toc_visible": true
    },
    "kernelspec": {
      "name": "python3",
      "display_name": "Python 3"
    },
    "language_info": {
      "name": "python"
    }
  },
  "cells": [
    {
      "cell_type": "code",
      "execution_count": 1,
      "metadata": {
        "colab": {
          "base_uri": "https://localhost:8080/"
        },
        "id": "JntFrWU8AHW2",
        "outputId": "e03515ab-3ebf-438c-e23a-b67e17d0f68b"
      },
      "outputs": [
        {
          "output_type": "stream",
          "name": "stdout",
          "text": [
            "Collecting scikit-surprise\n",
            "  Downloading scikit-surprise-1.1.3.tar.gz (771 kB)\n",
            "\u001b[2K     \u001b[90m━━━━━━━━━━━━━━━━━━━━━━━━━━━━━━━━━━━━━━━━\u001b[0m \u001b[32m772.0/772.0 kB\u001b[0m \u001b[31m6.9 MB/s\u001b[0m eta \u001b[36m0:00:00\u001b[0m\n",
            "\u001b[?25h  Preparing metadata (setup.py) ... \u001b[?25l\u001b[?25hdone\n",
            "Requirement already satisfied: joblib>=1.0.0 in /usr/local/lib/python3.10/dist-packages (from scikit-surprise) (1.3.2)\n",
            "Requirement already satisfied: numpy>=1.17.3 in /usr/local/lib/python3.10/dist-packages (from scikit-surprise) (1.23.5)\n",
            "Requirement already satisfied: scipy>=1.3.2 in /usr/local/lib/python3.10/dist-packages (from scikit-surprise) (1.11.3)\n",
            "Building wheels for collected packages: scikit-surprise\n",
            "  Building wheel for scikit-surprise (setup.py) ... \u001b[?25l\u001b[?25hdone\n",
            "  Created wheel for scikit-surprise: filename=scikit_surprise-1.1.3-cp310-cp310-linux_x86_64.whl size=3163342 sha256=c586ec5b5d3c6bb69b199a0b57f79c0e80aa8816ee5df7a3a409d2774e0d86f3\n",
            "  Stored in directory: /root/.cache/pip/wheels/a5/ca/a8/4e28def53797fdc4363ca4af740db15a9c2f1595ebc51fb445\n",
            "Successfully built scikit-surprise\n",
            "Installing collected packages: scikit-surprise\n",
            "Successfully installed scikit-surprise-1.1.3\n"
          ]
        }
      ],
      "source": [
        "pip install scikit-surprise\n"
      ]
    },
    {
      "cell_type": "code",
      "source": [
        "from surprise import Dataset, Reader, KNNBasic\n",
        "import pandas as pd\n",
        "\n",
        "# Sample data (user_id, song_id, rating)\n",
        "data = {'user_id': [1, 1, 2, 2, 3],\n",
        "        'song_id': ['A', 'B', 'A', 'C', 'B'],\n",
        "        'rating': [5, 4, 5, 3, 4]}\n",
        "\n",
        "df = pd.DataFrame(data)\n",
        "\n",
        "# Define the rating scale\n",
        "reader = Reader(rating_scale=(1, 5))\n",
        "\n",
        "# Load the dataset\n",
        "dataset = Dataset.load_from_df(df[['user_id', 'song_id', 'rating']], reader)\n",
        "\n",
        "# Build the training set\n",
        "trainset = dataset.build_full_trainset()\n",
        "\n",
        "# Use the KNNBasic collaborative filtering algorithm\n",
        "sim_options = {'name': 'cosine', 'user_based': True}\n",
        "model = KNNBasic(sim_options=sim_options)\n",
        "\n",
        "# Train the model\n",
        "model.fit(trainset)\n",
        "\n",
        "# Generate a playlist for a given user\n",
        "def generate_playlist(user_id, n=5):\n",
        "    # Get all items the user has not rated\n",
        "    all_songs = df['song_id'].unique()\n",
        "    user_rated_songs = df[df['user_id'] == user_id]['song_id'].tolist()\n",
        "    unrated_songs = list(set(all_songs) - set(user_rated_songs))\n",
        "\n",
        "    # Predict ratings for unrated songs\n",
        "    predictions = [model.predict(user_id, song_id) for song_id in unrated_songs]\n",
        "\n",
        "    # Sort predictions by estimated rating\n",
        "    sorted_predictions = sorted(predictions, key=lambda x: x.est, reverse=True)\n",
        "\n",
        "    # Get the top N recommendations\n",
        "    top_n = sorted_predictions[:n]\n",
        "\n",
        "    # Extract song IDs from recommendations\n",
        "    recommended_songs = [pred.iid for pred in top_n]\n",
        "\n",
        "    return recommended_songs\n",
        "\n",
        "# Example usage\n",
        "user_id = 1\n",
        "playlist = generate_playlist(user_id)\n",
        "print(f\"Recommended playlist for user {user_id}: {playlist}\")\n"
      ],
      "metadata": {
        "colab": {
          "base_uri": "https://localhost:8080/"
        },
        "id": "h9fkhb9tAIHH",
        "outputId": "5ff88c70-821e-4969-9976-f76fb79a241f"
      },
      "execution_count": 2,
      "outputs": [
        {
          "output_type": "stream",
          "name": "stdout",
          "text": [
            "Computing the cosine similarity matrix...\n",
            "Done computing similarity matrix.\n",
            "Recommended playlist for user 1: ['C']\n"
          ]
        }
      ]
    },
    {
      "cell_type": "code",
      "source": [],
      "metadata": {
        "id": "xM9TO481Ah-8"
      },
      "execution_count": null,
      "outputs": []
    }
  ]
}